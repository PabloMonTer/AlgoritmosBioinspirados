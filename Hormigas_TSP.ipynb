{
  "nbformat": 4,
  "nbformat_minor": 0,
  "metadata": {
    "colab": {
      "provenance": []
    },
    "kernelspec": {
      "name": "python3",
      "display_name": "Python 3"
    },
    "language_info": {
      "name": "python"
    },
    "accelerator": "TPU"
  },
  "cells": [
    {
      "cell_type": "markdown",
      "source": [
        "## Nombre: Adalía Fernanda Aneiros Gutiérrez                               Matricula: A00832680\n",
        "\n",
        "## Nombre: Valeria Edith Lugo Gutiérrez                                       Matricula: A00830523\n",
        "\n",
        "## Nombre: Yuu Ricardo Akachi Tanaka \t\tMatrícula:A01351969\n",
        "\n",
        "## Nombre: Pablo Monzon Terrazas \t\tMatrícula:A01562619\n",
        "\n",
        "## Nombre: Donnet Hernández Franco \t  Matricula: A01352049\n",
        "\n",
        "## Nombre: Luis Alejo Muñoz Ledo \t  Matricula: A01704173"
      ],
      "metadata": {
        "id": "t0uyBQFtjWPv"
      }
    },
    {
      "cell_type": "markdown",
      "source": [
        "## Lectura de la base de datos con 40 nodos aleatorios  "
      ],
      "metadata": {
        "id": "F_TS00axjO-S"
      }
    },
    {
      "cell_type": "code",
      "execution_count": null,
      "metadata": {
        "colab": {
          "base_uri": "https://localhost:8080/"
        },
        "id": "avt31W16fZRP",
        "outputId": "b149be3c-081e-42c8-c0d2-380c29daf86e"
      },
      "outputs": [
        {
          "output_type": "execute_result",
          "data": {
            "text/plain": [
              "array([[ 0.        ,  3.73541499,  3.83223901, ...,  7.95447155,\n",
              "        10.0574647 ,  2.17989099],\n",
              "       [ 3.73541499,  0.        ,  4.69974601, ..., 11.62821644,\n",
              "        13.14553513,  2.8241823 ],\n",
              "       [ 3.83223901,  4.69974601,  0.        , ...,  8.86547999,\n",
              "         9.01765022,  2.16409622],\n",
              "       ...,\n",
              "       [ 7.95447155, 11.62821644,  8.86547999, ...,  0.        ,\n",
              "         4.7031951 ,  9.19867387],\n",
              "       [10.0574647 , 13.14553513,  9.01765022, ...,  4.7031951 ,\n",
              "         0.        , 10.34204925],\n",
              "       [ 2.17989099,  2.8241823 ,  2.16409622, ...,  9.19867387,\n",
              "        10.34204925,  0.        ]])"
            ]
          },
          "metadata": {},
          "execution_count": 3
        }
      ],
      "source": [
        "import pandas as pd\n",
        "import numpy as np\n",
        "df=pd.read_csv(\"/content/Ruta1_40nodos.csv\")\n",
        "matriz_costo=df.to_numpy()\n",
        "np.fill_diagonal(matriz_costo, 0)\n",
        "tau_i_j = 0.1 * np.ones((40, 40))\n",
        "np.fill_diagonal(tau_i_j, 0)\n",
        "matriz_costo"
      ]
    },
    {
      "cell_type": "code",
      "source": [
        "import numpy as np\n",
        "import random\n",
        "\n",
        "n = 40\n",
        "m = 40\n",
        "alpha = 1.0\n",
        "beta = 2.0\n",
        "ro = 0.1\n",
        "Q = 1.0\n",
        "n_iteraciones = 1000\n",
        "\n",
        "\n",
        "for iteracion in range(n_iteraciones):\n",
        "    ruta_hormigas = []\n",
        "    costo_hormigas = []\n",
        "\n",
        "    for hormiga in range(m):\n",
        "        nodo_actual = 0\n",
        "        ruta = [nodo_actual]\n",
        "        costo = 0\n",
        "\n",
        "        while len(ruta) < 40:\n",
        "\n",
        "            no_visitados = [i for i in range(n) if i not in ruta]\n",
        "            probabilidad = np.zeros(n)\n",
        "            visitado = [i for i in range (n) if i in ruta]\n",
        "\n",
        "            for i in no_visitados:\n",
        "                probabilidad[i] = (tau_i_j[nodo_actual][i] ** alpha) * (1.0 / matriz_costo[nodo_actual][i] ** beta)\n",
        "\n",
        "            probabilidad /= probabilidad.sum()\n",
        "            probabilidad = np.delete(probabilidad, visitado)\n",
        "            nodo_siguiente = np.random.choice(no_visitados, p=probabilidad)\n",
        "            costo += matriz_costo[nodo_actual][nodo_siguiente]\n",
        "            ruta.append(nodo_siguiente)\n",
        "            nodo_actual = nodo_siguiente\n",
        "\n",
        "        costo += matriz_costo[ruta[-1]][ruta[0]]\n",
        "        ruta_hormigas.append(ruta)\n",
        "        costo_hormigas.append(costo)\n",
        "\n",
        "\n",
        "    for i in range(n):\n",
        "        for j in range(n):\n",
        "            tau_i_j[i][j] = (1 - ro) * tau_i_j[i][j]\n",
        "\n",
        "    for hormiga in range(m):\n",
        "        for i in range(1,len(ruta_hormigas[hormiga])):\n",
        "            tau_i_j[ruta_hormigas[hormiga][i-1]][ruta_hormigas[hormiga][i]] += (Q / costo_hormigas[hormiga])\n",
        "\n",
        "print(ruta_hormigas[np.argmin(costo_hormigas)])\n",
        "print(\"Costo de la mejor ruta:\", min(costo_hormigas))"
      ],
      "metadata": {
        "colab": {
          "base_uri": "https://localhost:8080/"
        },
        "id": "C5EDX9uCgKeQ",
        "outputId": "7dde33c4-c139-49e3-b3bb-c212e12b03db"
      },
      "execution_count": null,
      "outputs": [
        {
          "output_type": "stream",
          "name": "stdout",
          "text": [
            "[0, 28, 23, 4, 8, 27, 9, 15, 10, 24, 35, 17, 25, 11, 20, 7, 14, 1, 21, 29, 36, 31, 26, 32, 19, 2, 22, 18, 3, 16, 38, 33, 37, 6, 5, 34, 30, 39, 13, 12]\n",
            "Costo de la mejor ruta: 70.320589903\n"
          ]
        }
      ]
    },
    {
      "cell_type": "code",
      "source": [
        "import pandas as pd\n",
        "import numpy as np\n",
        "df=pd.read_csv(\"/content/Ruta2_40nodos.csv\")\n",
        "matriz_costo=df.to_numpy()\n",
        "np.fill_diagonal(matriz_costo, 0)\n",
        "tau_i_j = 0.1 * np.ones((40, 40))\n",
        "np.fill_diagonal(tau_i_j, 0)\n",
        "matriz_costo"
      ],
      "metadata": {
        "colab": {
          "base_uri": "https://localhost:8080/"
        },
        "id": "EqJFWy9gwOSI",
        "outputId": "c2916533-98ad-49c6-cc06-5716a04cc224"
      },
      "execution_count": null,
      "outputs": [
        {
          "output_type": "execute_result",
          "data": {
            "text/plain": [
              "array([[ 0.        ,  3.47266085,  9.86257153, ...,  1.73992026,\n",
              "        11.67993893, 11.12214829],\n",
              "       [ 3.47266085,  0.        ,  8.82528668, ...,  1.76337143,\n",
              "        10.37910417, 11.32901438],\n",
              "       [ 9.86257153,  8.82528668,  0.        , ...,  8.97956279,\n",
              "         1.89324513,  4.15934317],\n",
              "       ...,\n",
              "       [ 1.73992026,  1.76337143,  8.97956279, ...,  0.        ,\n",
              "        10.70241445, 10.85955179],\n",
              "       [11.67993893, 10.37910417,  1.89324513, ..., 10.70241445,\n",
              "         0.        ,  4.89767779],\n",
              "       [11.12214829, 11.32901438,  4.15934317, ..., 10.85955179,\n",
              "         4.89767779,  0.        ]])"
            ]
          },
          "metadata": {},
          "execution_count": 5
        }
      ]
    },
    {
      "cell_type": "code",
      "source": [
        "import numpy as np\n",
        "import random\n",
        "\n",
        "n = 40\n",
        "m = 40\n",
        "alpha = 1.0\n",
        "beta = 2.0\n",
        "ro = 0.1\n",
        "Q = 1.0\n",
        "n_iteraciones = 1000\n",
        "\n",
        "\n",
        "for iteracion in range(n_iteraciones):\n",
        "    ruta_hormigas = []\n",
        "    costo_hormigas = []\n",
        "\n",
        "    for hormiga in range(m):\n",
        "        nodo_actual = 0\n",
        "        ruta = [nodo_actual]\n",
        "        costo = 0\n",
        "\n",
        "        while len(ruta) < 40:\n",
        "\n",
        "            no_visitados = [i for i in range(n) if i not in ruta]\n",
        "            probabilidad = np.zeros(n)\n",
        "            visitado = [i for i in range (n) if i in ruta]\n",
        "\n",
        "            for i in no_visitados:\n",
        "                probabilidad[i] = (tau_i_j[nodo_actual][i] ** alpha) * (1.0 / matriz_costo[nodo_actual][i] ** beta)\n",
        "\n",
        "            probabilidad /= probabilidad.sum()\n",
        "            probabilidad = np.delete(probabilidad, visitado)\n",
        "            nodo_siguiente = np.random.choice(no_visitados, p=probabilidad)\n",
        "            costo += matriz_costo[nodo_actual][nodo_siguiente]\n",
        "            ruta.append(nodo_siguiente)\n",
        "            nodo_actual = nodo_siguiente\n",
        "\n",
        "        costo += matriz_costo[ruta[-1]][ruta[0]]\n",
        "        ruta_hormigas.append(ruta)\n",
        "        costo_hormigas.append(costo)\n",
        "\n",
        "\n",
        "    for i in range(n):\n",
        "        for j in range(n):\n",
        "            tau_i_j[i][j] = (1 - ro) * tau_i_j[i][j]\n",
        "\n",
        "    for hormiga in range(m):\n",
        "        for i in range(1,len(ruta_hormigas[hormiga])):\n",
        "            tau_i_j[ruta_hormigas[hormiga][i-1]][ruta_hormigas[hormiga][i]] += (Q / costo_hormigas[hormiga])\n",
        "\n",
        "print(ruta_hormigas[np.argmin(costo_hormigas)])\n",
        "print(\"Costo de la mejor ruta:\", min(costo_hormigas))"
      ],
      "metadata": {
        "colab": {
          "base_uri": "https://localhost:8080/"
        },
        "id": "Z0DQTZRww0Su",
        "outputId": "812881ac-c2b8-4393-896f-9c153ca8b4fd"
      },
      "execution_count": null,
      "outputs": [
        {
          "output_type": "stream",
          "name": "stdout",
          "text": [
            "[0, 31, 37, 30, 7, 1, 12, 29, 16, 5, 28, 2, 20, 10, 15, 38, 27, 9, 8, 13, 33, 6, 11, 22, 18, 39, 25, 34, 4, 26, 36, 24, 35, 14, 17, 19, 23, 3, 21, 32]\n",
            "Costo de la mejor ruta: 71.17437900700001\n"
          ]
        }
      ]
    },
    {
      "cell_type": "code",
      "source": [
        "import pandas as pd\n",
        "import numpy as np\n",
        "df=pd.read_csv(\"/content/Ruta3_40nodos.csv\")\n",
        "matriz_costo=df.to_numpy()\n",
        "np.fill_diagonal(matriz_costo, 0)\n",
        "tau_i_j = 0.1 * np.ones((40, 40))\n",
        "np.fill_diagonal(tau_i_j, 0)\n",
        "matriz_costo"
      ],
      "metadata": {
        "colab": {
          "base_uri": "https://localhost:8080/"
        },
        "id": "ffK4kqH4w0LA",
        "outputId": "9a83790b-d7fa-4516-fc96-bafd81b87a66"
      },
      "execution_count": null,
      "outputs": [
        {
          "output_type": "execute_result",
          "data": {
            "text/plain": [
              "array([[ 0.        ,  0.68657521, 14.89500677, ...,  0.42636844,\n",
              "         9.26329579,  7.49230024],\n",
              "       [ 0.68657521,  0.        , 14.9065163 , ...,  0.94745887,\n",
              "         9.68799626,  7.24959976],\n",
              "       [14.89500677, 14.9065163 ,  0.        , ..., 14.50984688,\n",
              "         9.33048633,  8.50102668],\n",
              "       ...,\n",
              "       [ 0.42636844,  0.94745887, 14.50984688, ...,  0.        ,\n",
              "         8.84649223,  7.21317578],\n",
              "       [ 9.26329579,  9.68799626,  9.33048633, ...,  8.84649223,\n",
              "         0.        ,  8.48504082],\n",
              "       [ 7.49230024,  7.24959976,  8.50102668, ...,  7.21317578,\n",
              "         8.48504082,  0.        ]])"
            ]
          },
          "metadata": {},
          "execution_count": 7
        }
      ]
    },
    {
      "cell_type": "code",
      "source": [
        "import numpy as np\n",
        "import random\n",
        "\n",
        "n = 40\n",
        "m = 40\n",
        "alpha = 1.0\n",
        "beta = 2.0\n",
        "ro = 0.1\n",
        "Q = 1.0\n",
        "n_iteraciones = 1000\n",
        "\n",
        "\n",
        "for iteracion in range(n_iteraciones):\n",
        "    ruta_hormigas = []\n",
        "    costo_hormigas = []\n",
        "\n",
        "    for hormiga in range(m):\n",
        "        nodo_actual = 0\n",
        "        ruta = [nodo_actual]\n",
        "        costo = 0\n",
        "\n",
        "        while len(ruta) < 40:\n",
        "\n",
        "            no_visitados = [i for i in range(n) if i not in ruta]\n",
        "            probabilidad = np.zeros(n)\n",
        "            visitado = [i for i in range (n) if i in ruta]\n",
        "\n",
        "            for i in no_visitados:\n",
        "                probabilidad[i] = (tau_i_j[nodo_actual][i] ** alpha) * (1.0 / matriz_costo[nodo_actual][i] ** beta)\n",
        "\n",
        "            probabilidad /= probabilidad.sum()\n",
        "            probabilidad = np.delete(probabilidad, visitado)\n",
        "            nodo_siguiente = np.random.choice(no_visitados, p=probabilidad)\n",
        "            costo += matriz_costo[nodo_actual][nodo_siguiente]\n",
        "            ruta.append(nodo_siguiente)\n",
        "            nodo_actual = nodo_siguiente\n",
        "\n",
        "        costo += matriz_costo[ruta[-1]][ruta[0]]\n",
        "        ruta_hormigas.append(ruta)\n",
        "        costo_hormigas.append(costo)\n",
        "\n",
        "\n",
        "    for i in range(n):\n",
        "        for j in range(n):\n",
        "            tau_i_j[i][j] = (1 - ro) * tau_i_j[i][j]\n",
        "\n",
        "    for hormiga in range(m):\n",
        "        for i in range(1,len(ruta_hormigas[hormiga])):\n",
        "            tau_i_j[ruta_hormigas[hormiga][i-1]][ruta_hormigas[hormiga][i]] += (Q / costo_hormigas[hormiga])\n",
        "\n",
        "print(ruta_hormigas[np.argmin(costo_hormigas)])\n",
        "print(\"Costo de la mejor ruta:\", min(costo_hormigas))"
      ],
      "metadata": {
        "colab": {
          "base_uri": "https://localhost:8080/"
        },
        "id": "1PYbjrcyw0B_",
        "outputId": "7f63229a-93f4-41bb-dafb-affdba751b36"
      },
      "execution_count": null,
      "outputs": [
        {
          "output_type": "stream",
          "name": "stdout",
          "text": [
            "[0, 37, 1, 7, 5, 19, 10, 32, 12, 39, 36, 14, 35, 28, 31, 33, 30, 11, 2, 15, 20, 16, 24, 34, 8, 23, 29, 18, 3, 38, 9, 17, 6, 13, 22, 4, 27, 25, 26, 21]\n",
            "Costo de la mejor ruta: 62.429757149\n"
          ]
        }
      ]
    },
    {
      "cell_type": "code",
      "source": [
        "import pandas as pd\n",
        "import numpy as np\n",
        "df=pd.read_csv(\"/content/Ruta4_40nodos.csv\")\n",
        "matriz_costo=df.to_numpy()\n",
        "np.fill_diagonal(matriz_costo, 0)\n",
        "tau_i_j = 0.1 * np.ones((40, 40))\n",
        "np.fill_diagonal(tau_i_j, 0)\n",
        "matriz_costo"
      ],
      "metadata": {
        "colab": {
          "base_uri": "https://localhost:8080/"
        },
        "id": "VdATUDKEwz5U",
        "outputId": "45faba2a-ebe1-4455-bdd5-cff7e216023e"
      },
      "execution_count": null,
      "outputs": [
        {
          "output_type": "execute_result",
          "data": {
            "text/plain": [
              "array([[ 0.        ,  7.25184083, 11.61305167, ..., 13.59543491,\n",
              "        12.35502609,  8.40538964],\n",
              "       [ 7.25184083,  0.        ,  9.25121888, ...,  7.03826533,\n",
              "        10.42286031,  8.32491559],\n",
              "       [11.61305167,  9.25121888,  0.        , ...,  7.83733884,\n",
              "         1.21329062,  3.72116508],\n",
              "       ...,\n",
              "       [13.59543491,  7.03826533,  7.83733884, ...,  0.        ,\n",
              "         8.89189441,  9.84614021],\n",
              "       [12.35502609, 10.42286031,  1.21329062, ...,  8.89189441,\n",
              "         0.        ,  4.10839324],\n",
              "       [ 8.40538964,  8.32491559,  3.72116508, ...,  9.84614021,\n",
              "         4.10839324,  0.        ]])"
            ]
          },
          "metadata": {},
          "execution_count": 9
        }
      ]
    },
    {
      "cell_type": "code",
      "source": [
        "import numpy as np\n",
        "import random\n",
        "\n",
        "n = 40\n",
        "m = 40\n",
        "alpha = 1.0\n",
        "beta = 2.0\n",
        "ro = 0.1\n",
        "Q = 1.0\n",
        "n_iteraciones = 1000\n",
        "\n",
        "\n",
        "for iteracion in range(n_iteraciones):\n",
        "    ruta_hormigas = []\n",
        "    costo_hormigas = []\n",
        "\n",
        "    for hormiga in range(m):\n",
        "        nodo_actual = 0\n",
        "        ruta = [nodo_actual]\n",
        "        costo = 0\n",
        "\n",
        "        while len(ruta) < 40:\n",
        "\n",
        "            no_visitados = [i for i in range(n) if i not in ruta]\n",
        "            probabilidad = np.zeros(n)\n",
        "            visitado = [i for i in range (n) if i in ruta]\n",
        "\n",
        "            for i in no_visitados:\n",
        "                probabilidad[i] = (tau_i_j[nodo_actual][i] ** alpha) * (1.0 / matriz_costo[nodo_actual][i] ** beta)\n",
        "\n",
        "            probabilidad /= probabilidad.sum()\n",
        "            probabilidad = np.delete(probabilidad, visitado)\n",
        "            nodo_siguiente = np.random.choice(no_visitados, p=probabilidad)\n",
        "            costo += matriz_costo[nodo_actual][nodo_siguiente]\n",
        "            ruta.append(nodo_siguiente)\n",
        "            nodo_actual = nodo_siguiente\n",
        "\n",
        "        costo += matriz_costo[ruta[-1]][ruta[0]]\n",
        "        ruta_hormigas.append(ruta)\n",
        "        costo_hormigas.append(costo)\n",
        "\n",
        "\n",
        "    for i in range(n):\n",
        "        for j in range(n):\n",
        "            tau_i_j[i][j] = (1 - ro) * tau_i_j[i][j]\n",
        "\n",
        "    for hormiga in range(m):\n",
        "        for i in range(1,len(ruta_hormigas[hormiga])):\n",
        "            tau_i_j[ruta_hormigas[hormiga][i-1]][ruta_hormigas[hormiga][i]] += (Q / costo_hormigas[hormiga])\n",
        "\n",
        "print(ruta_hormigas[np.argmin(costo_hormigas)])\n",
        "print(\"Costo de la mejor ruta:\", min(costo_hormigas))"
      ],
      "metadata": {
        "colab": {
          "base_uri": "https://localhost:8080/"
        },
        "id": "oqvlPOtpwzw1",
        "outputId": "02405942-731d-49b2-e767-dd33251ca71b"
      },
      "execution_count": null,
      "outputs": [
        {
          "output_type": "stream",
          "name": "stdout",
          "text": [
            "[0, 8, 13, 9, 19, 22, 35, 25, 30, 17, 21, 39, 33, 27, 14, 6, 4, 3, 23, 12, 7, 28, 29, 15, 5, 36, 38, 20, 18, 26, 16, 2, 24, 11, 37, 34, 31, 10, 1, 32]\n",
            "Costo de la mejor ruta: 69.206560964\n"
          ]
        }
      ]
    },
    {
      "cell_type": "code",
      "source": [
        "import pandas as pd\n",
        "import numpy as np\n",
        "df=pd.read_csv(\"/content/Ruta5_40nodos.csv\")\n",
        "matriz_costo=df.to_numpy()\n",
        "np.fill_diagonal(matriz_costo, 0)\n",
        "tau_i_j = 0.1 * np.ones((40, 40))\n",
        "np.fill_diagonal(tau_i_j, 0)\n",
        "matriz_costo"
      ],
      "metadata": {
        "colab": {
          "base_uri": "https://localhost:8080/"
        },
        "id": "3qizH8kWwzn9",
        "outputId": "7e99d471-77a9-48c0-a843-eb5eb9b75eb9"
      },
      "execution_count": null,
      "outputs": [
        {
          "output_type": "execute_result",
          "data": {
            "text/plain": [
              "array([[0.        , 5.58677317, 7.08744613, ..., 5.81616744, 6.94172063,\n",
              "        5.46070555],\n",
              "       [5.58677317, 0.        , 1.50140581, ..., 2.32615091, 5.11232006,\n",
              "        4.97714129],\n",
              "       [7.08744613, 1.50140581, 0.        , ..., 2.94283532, 5.50609812,\n",
              "        5.8751521 ],\n",
              "       ...,\n",
              "       [5.81616744, 2.32615091, 2.94283532, ..., 0.        , 7.38083375,\n",
              "        2.94915171],\n",
              "       [6.94172063, 5.11232006, 5.50609812, ..., 7.38083375, 0.        ,\n",
              "        9.55993812],\n",
              "       [5.46070555, 4.97714129, 5.8751521 , ..., 2.94915171, 9.55993812,\n",
              "        0.        ]])"
            ]
          },
          "metadata": {},
          "execution_count": 11
        }
      ]
    },
    {
      "cell_type": "code",
      "source": [
        "import numpy as np\n",
        "import random\n",
        "\n",
        "n = 40\n",
        "m = 40\n",
        "alpha = 1.0\n",
        "beta = 2.0\n",
        "ro = 0.1\n",
        "Q = 1.0\n",
        "n_iteraciones = 1000\n",
        "\n",
        "\n",
        "for iteracion in range(n_iteraciones):\n",
        "    ruta_hormigas = []\n",
        "    costo_hormigas = []\n",
        "\n",
        "    for hormiga in range(m):\n",
        "        nodo_actual = 0\n",
        "        ruta = [nodo_actual]\n",
        "        costo = 0\n",
        "\n",
        "        while len(ruta) < 40:\n",
        "\n",
        "            no_visitados = [i for i in range(n) if i not in ruta]\n",
        "            probabilidad = np.zeros(n)\n",
        "            visitado = [i for i in range (n) if i in ruta]\n",
        "\n",
        "            for i in no_visitados:\n",
        "                probabilidad[i] = (tau_i_j[nodo_actual][i] ** alpha) * (1.0 / matriz_costo[nodo_actual][i] ** beta)\n",
        "\n",
        "            probabilidad /= probabilidad.sum()\n",
        "            probabilidad = np.delete(probabilidad, visitado)\n",
        "            nodo_siguiente = np.random.choice(no_visitados, p=probabilidad)\n",
        "            costo += matriz_costo[nodo_actual][nodo_siguiente]\n",
        "            ruta.append(nodo_siguiente)\n",
        "            nodo_actual = nodo_siguiente\n",
        "\n",
        "        costo += matriz_costo[ruta[-1]][ruta[0]]\n",
        "        ruta_hormigas.append(ruta)\n",
        "        costo_hormigas.append(costo)\n",
        "\n",
        "\n",
        "    for i in range(n):\n",
        "        for j in range(n):\n",
        "            tau_i_j[i][j] = (1 - ro) * tau_i_j[i][j]\n",
        "\n",
        "    for hormiga in range(m):\n",
        "        for i in range(1,len(ruta_hormigas[hormiga])):\n",
        "            tau_i_j[ruta_hormigas[hormiga][i-1]][ruta_hormigas[hormiga][i]] += (Q / costo_hormigas[hormiga])\n",
        "\n",
        "print(ruta_hormigas[np.argmin(costo_hormigas)])\n",
        "print(\"Costo de la mejor ruta:\", min(costo_hormigas))"
      ],
      "metadata": {
        "colab": {
          "base_uri": "https://localhost:8080/"
        },
        "id": "Ou5XM8fpwzfH",
        "outputId": "3bb80051-2780-4473-a1d7-829cc88a37c7"
      },
      "execution_count": null,
      "outputs": [
        {
          "output_type": "stream",
          "name": "stdout",
          "text": [
            "[0, 36, 7, 9, 27, 26, 39, 23, 25, 14, 37, 1, 34, 2, 8, 16, 13, 4, 19, 28, 31, 11, 5, 3, 33, 35, 29, 10, 18, 38, 12, 24, 22, 30, 17, 20, 15, 6, 32, 21]\n",
            "Costo de la mejor ruta: 74.82260797400001\n"
          ]
        }
      ]
    },
    {
      "cell_type": "code",
      "source": [
        "import pandas as pd\n",
        "import numpy as np\n",
        "df=pd.read_csv(\"/content/Ruta6_40nodos.csv\")\n",
        "matriz_costo=df.to_numpy()\n",
        "np.fill_diagonal(matriz_costo, 0)\n",
        "tau_i_j = 0.1 * np.ones((40, 40))\n",
        "np.fill_diagonal(tau_i_j, 0)\n",
        "matriz_costo"
      ],
      "metadata": {
        "colab": {
          "base_uri": "https://localhost:8080/"
        },
        "id": "Ci13kuGIwzW3",
        "outputId": "a2ff9f87-6b45-4114-e641-c2b440eb1f7d"
      },
      "execution_count": null,
      "outputs": [
        {
          "output_type": "execute_result",
          "data": {
            "text/plain": [
              "array([[0.        , 5.45918668, 5.4394009 , ..., 2.26435208, 3.83442507,\n",
              "        1.39949585],\n",
              "       [5.45918668, 0.        , 2.19592703, ..., 3.85228251, 1.78202619,\n",
              "        5.86976637],\n",
              "       [5.4394009 , 2.19592703, 0.        , ..., 3.26432122, 3.01308328,\n",
              "        6.31870624],\n",
              "       ...,\n",
              "       [2.26435208, 3.85228251, 3.26432122, ..., 0.        , 2.74114349,\n",
              "        3.41021404],\n",
              "       [3.83442507, 1.78202619, 3.01308328, ..., 2.74114349, 0.        ,\n",
              "        4.10412859],\n",
              "       [1.39949585, 5.86976637, 6.31870624, ..., 3.41021404, 4.10412859,\n",
              "        0.        ]])"
            ]
          },
          "metadata": {},
          "execution_count": 13
        }
      ]
    },
    {
      "cell_type": "code",
      "source": [
        "import numpy as np\n",
        "import random\n",
        "\n",
        "n = 40\n",
        "m = 40\n",
        "alpha = 1.0\n",
        "beta = 2.0\n",
        "ro = 0.1\n",
        "Q = 1.0\n",
        "n_iteraciones = 1000\n",
        "\n",
        "\n",
        "for iteracion in range(n_iteraciones):\n",
        "    ruta_hormigas = []\n",
        "    costo_hormigas = []\n",
        "\n",
        "    for hormiga in range(m):\n",
        "        nodo_actual = 0\n",
        "        ruta = [nodo_actual]\n",
        "        costo = 0\n",
        "\n",
        "        while len(ruta) < 40:\n",
        "\n",
        "            no_visitados = [i for i in range(n) if i not in ruta]\n",
        "            probabilidad = np.zeros(n)\n",
        "            visitado = [i for i in range (n) if i in ruta]\n",
        "\n",
        "            for i in no_visitados:\n",
        "                probabilidad[i] = (tau_i_j[nodo_actual][i] ** alpha) * (1.0 / matriz_costo[nodo_actual][i] ** beta)\n",
        "\n",
        "            probabilidad /= probabilidad.sum()\n",
        "            probabilidad = np.delete(probabilidad, visitado)\n",
        "            nodo_siguiente = np.random.choice(no_visitados, p=probabilidad)\n",
        "            costo += matriz_costo[nodo_actual][nodo_siguiente]\n",
        "            ruta.append(nodo_siguiente)\n",
        "            nodo_actual = nodo_siguiente\n",
        "\n",
        "        costo += matriz_costo[ruta[-1]][ruta[0]]\n",
        "        ruta_hormigas.append(ruta)\n",
        "        costo_hormigas.append(costo)\n",
        "\n",
        "\n",
        "    for i in range(n):\n",
        "        for j in range(n):\n",
        "            tau_i_j[i][j] = (1 - ro) * tau_i_j[i][j]\n",
        "\n",
        "    for hormiga in range(m):\n",
        "        for i in range(1,len(ruta_hormigas[hormiga])):\n",
        "            tau_i_j[ruta_hormigas[hormiga][i-1]][ruta_hormigas[hormiga][i]] += (Q / costo_hormigas[hormiga])\n",
        "\n",
        "print(ruta_hormigas[np.argmin(costo_hormigas)])\n",
        "print(\"Costo de la mejor ruta:\", min(costo_hormigas))"
      ],
      "metadata": {
        "colab": {
          "base_uri": "https://localhost:8080/"
        },
        "id": "rkQFWyrNwzNd",
        "outputId": "0b3d566d-393c-4bb3-8741-003d1a229ebd"
      },
      "execution_count": null,
      "outputs": [
        {
          "output_type": "stream",
          "name": "stdout",
          "text": [
            "[0, 39, 32, 4, 28, 38, 27, 1, 19, 30, 13, 2, 36, 5, 11, 15, 21, 7, 9, 31, 35, 33, 25, 22, 16, 18, 17, 12, 23, 24, 14, 8, 10, 37, 6, 3, 29, 26, 34, 20]\n",
            "Costo de la mejor ruta: 74.48643990099998\n"
          ]
        }
      ]
    },
    {
      "cell_type": "code",
      "source": [
        "import pandas as pd\n",
        "import numpy as np\n",
        "df=pd.read_csv(\"/content/Ruta7_40nodos.csv\")\n",
        "matriz_costo=df.to_numpy()\n",
        "np.fill_diagonal(matriz_costo, 0)\n",
        "tau_i_j = 0.1 * np.ones((40, 40))\n",
        "np.fill_diagonal(tau_i_j, 0)\n",
        "matriz_costo"
      ],
      "metadata": {
        "colab": {
          "base_uri": "https://localhost:8080/"
        },
        "id": "wycnLeE1wzE3",
        "outputId": "1612320d-d689-4e6e-be3b-dc963a802871"
      },
      "execution_count": null,
      "outputs": [
        {
          "output_type": "execute_result",
          "data": {
            "text/plain": [
              "array([[ 0.        , 10.49822055, 14.04959612, ..., 12.2889432 ,\n",
              "        11.69626461, 14.14993175],\n",
              "       [10.49822055,  0.        ,  4.74142855, ...,  2.30822351,\n",
              "         2.05097857,  4.75884345],\n",
              "       [14.04959612,  4.74142855,  0.        , ...,  5.3600042 ,\n",
              "         2.73669792,  7.11960599],\n",
              "       ...,\n",
              "       [12.2889432 ,  2.30822351,  5.3600042 , ...,  0.        ,\n",
              "         3.38265621,  2.46544336],\n",
              "       [11.69626461,  2.05097857,  2.73669792, ...,  3.38265621,\n",
              "         0.        ,  5.68592281],\n",
              "       [14.14993175,  4.75884345,  7.11960599, ...,  2.46544336,\n",
              "         5.68592281,  0.        ]])"
            ]
          },
          "metadata": {},
          "execution_count": 15
        }
      ]
    },
    {
      "cell_type": "code",
      "source": [
        "import numpy as np\n",
        "import random\n",
        "\n",
        "n = 40\n",
        "m = 40\n",
        "alpha = 1.0\n",
        "beta = 2.0\n",
        "ro = 0.1\n",
        "Q = 1.0\n",
        "n_iteraciones = 1000\n",
        "\n",
        "\n",
        "for iteracion in range(n_iteraciones):\n",
        "    ruta_hormigas = []\n",
        "    costo_hormigas = []\n",
        "\n",
        "    for hormiga in range(m):\n",
        "        nodo_actual = 0\n",
        "        ruta = [nodo_actual]\n",
        "        costo = 0\n",
        "\n",
        "        while len(ruta) < 40:\n",
        "\n",
        "            no_visitados = [i for i in range(n) if i not in ruta]\n",
        "            probabilidad = np.zeros(n)\n",
        "            visitado = [i for i in range (n) if i in ruta]\n",
        "\n",
        "            for i in no_visitados:\n",
        "                probabilidad[i] = (tau_i_j[nodo_actual][i] ** alpha) * (1.0 / matriz_costo[nodo_actual][i] ** beta)\n",
        "\n",
        "            probabilidad /= probabilidad.sum()\n",
        "            probabilidad = np.delete(probabilidad, visitado)\n",
        "            nodo_siguiente = np.random.choice(no_visitados, p=probabilidad)\n",
        "            costo += matriz_costo[nodo_actual][nodo_siguiente]\n",
        "            ruta.append(nodo_siguiente)\n",
        "            nodo_actual = nodo_siguiente\n",
        "\n",
        "        costo += matriz_costo[ruta[-1]][ruta[0]]\n",
        "        ruta_hormigas.append(ruta)\n",
        "        costo_hormigas.append(costo)\n",
        "\n",
        "\n",
        "    for i in range(n):\n",
        "        for j in range(n):\n",
        "            tau_i_j[i][j] = (1 - ro) * tau_i_j[i][j]\n",
        "\n",
        "    for hormiga in range(m):\n",
        "        for i in range(1,len(ruta_hormigas[hormiga])):\n",
        "            tau_i_j[ruta_hormigas[hormiga][i-1]][ruta_hormigas[hormiga][i]] += (Q / costo_hormigas[hormiga])\n",
        "\n",
        "print(ruta_hormigas[np.argmin(costo_hormigas)])\n",
        "print(\"Costo de la mejor ruta:\", min(costo_hormigas))"
      ],
      "metadata": {
        "colab": {
          "base_uri": "https://localhost:8080/"
        },
        "id": "DZueIW7Vwy8x",
        "outputId": "06ceb0a0-24b2-4ab3-bbb2-bb2fceb1cac6"
      },
      "execution_count": null,
      "outputs": [
        {
          "output_type": "stream",
          "name": "stdout",
          "text": [
            "[0, 28, 5, 17, 12, 27, 7, 24, 3, 18, 34, 14, 33, 23, 32, 13, 15, 36, 39, 4, 37, 21, 1, 16, 35, 26, 38, 10, 20, 9, 11, 29, 2, 25, 6, 19, 22, 8, 31, 30]\n",
            "Costo de la mejor ruta: 60.534666727\n"
          ]
        }
      ]
    },
    {
      "cell_type": "code",
      "source": [
        "import pandas as pd\n",
        "import numpy as np\n",
        "df=pd.read_csv(\"/content/Ruta8_40nodos.csv\")\n",
        "matriz_costo=df.to_numpy()\n",
        "np.fill_diagonal(matriz_costo, 0)\n",
        "tau_i_j = 0.1 * np.ones((40, 40))\n",
        "np.fill_diagonal(tau_i_j, 0)\n",
        "matriz_costo"
      ],
      "metadata": {
        "colab": {
          "base_uri": "https://localhost:8080/"
        },
        "id": "1DtoAT_Kwyyu",
        "outputId": "e2b7c379-d268-473a-945b-d1100690a7c4"
      },
      "execution_count": null,
      "outputs": [
        {
          "output_type": "execute_result",
          "data": {
            "text/plain": [
              "array([[ 0.        ,  6.11506299,  7.01920186, ...,  2.67425896,\n",
              "         9.53244972,  2.26351575],\n",
              "       [ 6.11506299,  0.        ,  8.32796317, ...,  4.42027007,\n",
              "         9.44395414,  5.64328389],\n",
              "       [ 7.01920186,  8.32796317,  0.        , ...,  5.189746  ,\n",
              "         2.75728324,  8.9800658 ],\n",
              "       ...,\n",
              "       [ 2.67425896,  4.42027007,  5.189746  , ...,  0.        ,\n",
              "         7.34806888,  3.98836735],\n",
              "       [ 9.53244972,  9.44395414,  2.75728324, ...,  7.34806888,\n",
              "         0.        , 11.31070186],\n",
              "       [ 2.26351575,  5.64328389,  8.9800658 , ...,  3.98836735,\n",
              "        11.31070186,  0.        ]])"
            ]
          },
          "metadata": {},
          "execution_count": 17
        }
      ]
    },
    {
      "cell_type": "code",
      "source": [
        "import numpy as np\n",
        "import random\n",
        "\n",
        "n = 40\n",
        "m = 40\n",
        "alpha = 1.0\n",
        "beta = 2.0\n",
        "ro = 0.1\n",
        "Q = 1.0\n",
        "n_iteraciones = 1000\n",
        "\n",
        "\n",
        "for iteracion in range(n_iteraciones):\n",
        "    ruta_hormigas = []\n",
        "    costo_hormigas = []\n",
        "\n",
        "    for hormiga in range(m):\n",
        "        nodo_actual = 0\n",
        "        ruta = [nodo_actual]\n",
        "        costo = 0\n",
        "\n",
        "        while len(ruta) < 40:\n",
        "\n",
        "            no_visitados = [i for i in range(n) if i not in ruta]\n",
        "            probabilidad = np.zeros(n)\n",
        "            visitado = [i for i in range (n) if i in ruta]\n",
        "\n",
        "            for i in no_visitados:\n",
        "                probabilidad[i] = (tau_i_j[nodo_actual][i] ** alpha) * (1.0 / matriz_costo[nodo_actual][i] ** beta)\n",
        "\n",
        "            probabilidad /= probabilidad.sum()\n",
        "            probabilidad = np.delete(probabilidad, visitado)\n",
        "            nodo_siguiente = np.random.choice(no_visitados, p=probabilidad)\n",
        "            costo += matriz_costo[nodo_actual][nodo_siguiente]\n",
        "            ruta.append(nodo_siguiente)\n",
        "            nodo_actual = nodo_siguiente\n",
        "\n",
        "        costo += matriz_costo[ruta[-1]][ruta[0]]\n",
        "        ruta_hormigas.append(ruta)\n",
        "        costo_hormigas.append(costo)\n",
        "\n",
        "\n",
        "    for i in range(n):\n",
        "        for j in range(n):\n",
        "            tau_i_j[i][j] = (1 - ro) * tau_i_j[i][j]\n",
        "\n",
        "    for hormiga in range(m):\n",
        "        for i in range(1,len(ruta_hormigas[hormiga])):\n",
        "            tau_i_j[ruta_hormigas[hormiga][i-1]][ruta_hormigas[hormiga][i]] += (Q / costo_hormigas[hormiga])\n",
        "\n",
        "print(ruta_hormigas[np.argmin(costo_hormigas)])\n",
        "print(\"Costo de la mejor ruta:\", min(costo_hormigas))"
      ],
      "metadata": {
        "colab": {
          "base_uri": "https://localhost:8080/"
        },
        "id": "2o0YI03cwyrZ",
        "outputId": "20402969-b5fb-4acb-bed8-0545301bcd88"
      },
      "execution_count": null,
      "outputs": [
        {
          "output_type": "stream",
          "name": "stdout",
          "text": [
            "[0, 39, 5, 3, 32, 19, 16, 10, 37, 8, 11, 24, 30, 33, 17, 2, 25, 6, 29, 15, 21, 9, 38, 28, 36, 18, 7, 4, 12, 34, 26, 22, 23, 20, 35, 31, 27, 14, 1, 13]\n",
            "Costo de la mejor ruta: 59.776342827\n"
          ]
        }
      ]
    },
    {
      "cell_type": "code",
      "source": [
        "import pandas as pd\n",
        "import numpy as np\n",
        "df=pd.read_csv(\"/content/Ruta9_40nodos.csv\")\n",
        "matriz_costo=df.to_numpy()\n",
        "np.fill_diagonal(matriz_costo, 0)\n",
        "tau_i_j = 0.1 * np.ones((40, 40))\n",
        "np.fill_diagonal(tau_i_j, 0)\n",
        "matriz_costo"
      ],
      "metadata": {
        "colab": {
          "base_uri": "https://localhost:8080/"
        },
        "id": "JykCEiPawyf-",
        "outputId": "14033324-b2cf-43bf-9e71-91eed11ebf40"
      },
      "execution_count": null,
      "outputs": [
        {
          "output_type": "execute_result",
          "data": {
            "text/plain": [
              "array([[ 0.        ,  9.24490705,  2.02900342, ...,  8.89390056,\n",
              "         5.16569252,  4.63410287],\n",
              "       [ 9.24490705,  0.        , 11.21531823, ...,  1.44830518,\n",
              "         9.18592922,  8.12600341],\n",
              "       [ 2.02900342, 11.21531823,  0.        , ..., 10.91278517,\n",
              "         6.47697477,  6.21256844],\n",
              "       ...,\n",
              "       [ 8.89390056,  1.44830518, 10.91278517, ...,  0.        ,\n",
              "         8.11215775,  7.10643001],\n",
              "       [ 5.16569252,  9.18592922,  6.47697477, ...,  8.11215775,\n",
              "         0.        ,  1.12394867],\n",
              "       [ 4.63410287,  8.12600341,  6.21256844, ...,  7.10643001,\n",
              "         1.12394867,  0.        ]])"
            ]
          },
          "metadata": {},
          "execution_count": 19
        }
      ]
    },
    {
      "cell_type": "code",
      "source": [
        "import numpy as np\n",
        "import random\n",
        "\n",
        "n = 40\n",
        "m = 40\n",
        "alpha = 1.0\n",
        "beta = 2.0\n",
        "ro = 0.1\n",
        "Q = 1.0\n",
        "n_iteraciones = 1000\n",
        "\n",
        "\n",
        "for iteracion in range(n_iteraciones):\n",
        "    ruta_hormigas = []\n",
        "    costo_hormigas = []\n",
        "\n",
        "    for hormiga in range(m):\n",
        "        nodo_actual = 0\n",
        "        ruta = [nodo_actual]\n",
        "        costo = 0\n",
        "\n",
        "        while len(ruta) < 40:\n",
        "\n",
        "            no_visitados = [i for i in range(n) if i not in ruta]\n",
        "            probabilidad = np.zeros(n)\n",
        "            visitado = [i for i in range (n) if i in ruta]\n",
        "\n",
        "            for i in no_visitados:\n",
        "                probabilidad[i] = (tau_i_j[nodo_actual][i] ** alpha) * (1.0 / matriz_costo[nodo_actual][i] ** beta)\n",
        "\n",
        "            probabilidad /= probabilidad.sum()\n",
        "            probabilidad = np.delete(probabilidad, visitado)\n",
        "            nodo_siguiente = np.random.choice(no_visitados, p=probabilidad)\n",
        "            costo += matriz_costo[nodo_actual][nodo_siguiente]\n",
        "            ruta.append(nodo_siguiente)\n",
        "            nodo_actual = nodo_siguiente\n",
        "\n",
        "        costo += matriz_costo[ruta[-1]][ruta[0]]\n",
        "        ruta_hormigas.append(ruta)\n",
        "        costo_hormigas.append(costo)\n",
        "\n",
        "\n",
        "    for i in range(n):\n",
        "        for j in range(n):\n",
        "            tau_i_j[i][j] = (1 - ro) * tau_i_j[i][j]\n",
        "\n",
        "    for hormiga in range(m):\n",
        "        for i in range(1,len(ruta_hormigas[hormiga])):\n",
        "            tau_i_j[ruta_hormigas[hormiga][i-1]][ruta_hormigas[hormiga][i]] += (Q / costo_hormigas[hormiga])\n",
        "\n",
        "print(ruta_hormigas[np.argmin(costo_hormigas)])\n",
        "print(\"Costo de la mejor ruta:\", min(costo_hormigas))"
      ],
      "metadata": {
        "colab": {
          "base_uri": "https://localhost:8080/"
        },
        "id": "nQYahGuVwyVo",
        "outputId": "345cc02c-9b0c-4ee5-9087-21a7ea82c2f1"
      },
      "execution_count": null,
      "outputs": [
        {
          "output_type": "stream",
          "name": "stdout",
          "text": [
            "[0, 21, 24, 2, 30, 14, 10, 15, 5, 26, 32, 4, 3, 19, 27, 38, 39, 13, 36, 28, 7, 6, 33, 35, 1, 16, 18, 37, 12, 31, 9, 23, 11, 25, 34, 29, 8, 20, 22, 17]\n",
            "Costo de la mejor ruta: 65.558156814\n"
          ]
        }
      ]
    },
    {
      "cell_type": "code",
      "source": [
        "import pandas as pd\n",
        "import numpy as np\n",
        "df=pd.read_csv(\"/content/Ruta10_40nodos.csv\")\n",
        "matriz_costo=df.to_numpy()\n",
        "np.fill_diagonal(matriz_costo, 0)\n",
        "tau_i_j = 0.1 * np.ones((40, 40))\n",
        "np.fill_diagonal(tau_i_j, 0)\n",
        "matriz_costo"
      ],
      "metadata": {
        "colab": {
          "base_uri": "https://localhost:8080/"
        },
        "id": "XJKQ2tBLwyNJ",
        "outputId": "5109088c-c213-4125-e102-5de608502b29"
      },
      "execution_count": null,
      "outputs": [
        {
          "output_type": "execute_result",
          "data": {
            "text/plain": [
              "array([[ 0.        ,  9.74397736,  7.25704647, ...,  7.52715541,\n",
              "         9.26166675,  8.61174111],\n",
              "       [ 9.74397736,  0.        , 11.66913068, ...,  2.81696769,\n",
              "        12.5538982 ,  4.17455467],\n",
              "       [ 7.25704647, 11.66913068,  0.        , ...,  8.87022514,\n",
              "         2.04205296,  8.02322155],\n",
              "       ...,\n",
              "       [ 7.52715541,  2.81696769,  8.87022514, ...,  0.        ,\n",
              "         9.85001613,  2.20437591],\n",
              "       [ 9.26166675, 12.5538982 ,  2.04205296, ...,  9.85001613,\n",
              "         0.        ,  8.58870404],\n",
              "       [ 8.61174111,  4.17455467,  8.02322155, ...,  2.20437591,\n",
              "         8.58870404,  0.        ]])"
            ]
          },
          "metadata": {},
          "execution_count": 21
        }
      ]
    },
    {
      "cell_type": "code",
      "source": [
        "import numpy as np\n",
        "import random\n",
        "\n",
        "n = 40\n",
        "m = 40\n",
        "alpha = 1.0\n",
        "beta = 2.0\n",
        "ro = 0.1\n",
        "Q = 1.0\n",
        "n_iteraciones = 1000\n",
        "\n",
        "\n",
        "for iteracion in range(n_iteraciones):\n",
        "    ruta_hormigas = []\n",
        "    costo_hormigas = []\n",
        "\n",
        "    for hormiga in range(m):\n",
        "        nodo_actual = 0\n",
        "        ruta = [nodo_actual]\n",
        "        costo = 0\n",
        "\n",
        "        while len(ruta) < 40:\n",
        "\n",
        "            no_visitados = [i for i in range(n) if i not in ruta]\n",
        "            probabilidad = np.zeros(n)\n",
        "            visitado = [i for i in range (n) if i in ruta]\n",
        "\n",
        "            for i in no_visitados:\n",
        "                probabilidad[i] = (tau_i_j[nodo_actual][i] ** alpha) * (1.0 / matriz_costo[nodo_actual][i] ** beta)\n",
        "\n",
        "            probabilidad /= probabilidad.sum()\n",
        "            probabilidad = np.delete(probabilidad, visitado)\n",
        "            nodo_siguiente = np.random.choice(no_visitados, p=probabilidad)\n",
        "            costo += matriz_costo[nodo_actual][nodo_siguiente]\n",
        "            ruta.append(nodo_siguiente)\n",
        "            nodo_actual = nodo_siguiente\n",
        "\n",
        "        costo += matriz_costo[ruta[-1]][ruta[0]]\n",
        "        ruta_hormigas.append(ruta)\n",
        "        costo_hormigas.append(costo)\n",
        "\n",
        "\n",
        "    for i in range(n):\n",
        "        for j in range(n):\n",
        "            tau_i_j[i][j] = (1 - ro) * tau_i_j[i][j]\n",
        "\n",
        "    for hormiga in range(m):\n",
        "        for i in range(1,len(ruta_hormigas[hormiga])):\n",
        "            tau_i_j[ruta_hormigas[hormiga][i-1]][ruta_hormigas[hormiga][i]] += (Q / costo_hormigas[hormiga])\n",
        "\n",
        "print(ruta_hormigas[np.argmin(costo_hormigas)])\n",
        "print(\"Costo de la mejor ruta:\", min(costo_hormigas))"
      ],
      "metadata": {
        "colab": {
          "base_uri": "https://localhost:8080/"
        },
        "id": "S1R_0VoOwww6",
        "outputId": "06d4c853-ad79-4aab-8788-cd85e0e232ec"
      },
      "execution_count": null,
      "outputs": [
        {
          "output_type": "stream",
          "name": "stdout",
          "text": [
            "[0, 16, 29, 36, 5, 19, 11, 12, 20, 30, 31, 37, 27, 1, 26, 18, 23, 13, 39, 28, 7, 21, 10, 24, 3, 9, 17, 2, 38, 33, 4, 34, 25, 15, 22, 32, 6, 35, 8, 14]\n",
            "Costo de la mejor ruta: 81.85709246800002\n"
          ]
        }
      ]
    },
    {
      "cell_type": "code",
      "source": [
        "import pandas as pd\n",
        "import numpy as np\n",
        "df=pd.read_csv(\"/content/distancias_100.csv\")\n",
        "matriz_costo=df.to_numpy()\n",
        "np.fill_diagonal(matriz_costo, 0)\n",
        "tau_i_j = 0.1 * np.ones((100, 100))\n",
        "np.fill_diagonal(tau_i_j, 0)\n",
        "matriz_costo"
      ],
      "metadata": {
        "colab": {
          "base_uri": "https://localhost:8080/"
        },
        "id": "Ms9rFPZF70AU",
        "outputId": "3d8da709-bbc6-4fd2-f582-c7ec93527aae"
      },
      "execution_count": null,
      "outputs": [
        {
          "output_type": "execute_result",
          "data": {
            "text/plain": [
              "array([[ 0.        ,  4.67656552,  7.7619877 , ...,  5.70391201,\n",
              "         5.90147156,  8.72937411],\n",
              "       [ 4.67656552,  0.        , 11.86061776, ..., 10.3737404 ,\n",
              "        10.48125118, 13.14900931],\n",
              "       [ 7.7619877 , 11.86061776,  0.        , ...,  4.21473016,\n",
              "         3.05457282,  2.05543399],\n",
              "       ...,\n",
              "       [ 5.70391201, 10.3737404 ,  4.21473016, ...,  0.        ,\n",
              "         1.17622205,  3.85108256],\n",
              "       [ 5.90147156, 10.48125118,  3.05457282, ...,  1.17622205,\n",
              "         0.        ,  2.99873078],\n",
              "       [ 8.72937411, 13.14900931,  2.05543399, ...,  3.85108256,\n",
              "         2.99873078,  0.        ]])"
            ]
          },
          "metadata": {},
          "execution_count": 27
        }
      ]
    },
    {
      "cell_type": "code",
      "source": [
        "import numpy as np\n",
        "import random\n",
        "\n",
        "n = 100\n",
        "m = 40\n",
        "alpha = 1.0\n",
        "beta = 2.0\n",
        "ro = 0.1\n",
        "Q = 1.0\n",
        "n_iteraciones = 1000\n",
        "\n",
        "\n",
        "for iteracion in range(n_iteraciones):\n",
        "    ruta_hormigas = []\n",
        "    costo_hormigas = []\n",
        "\n",
        "    for hormiga in range(m):\n",
        "        nodo_actual = 0\n",
        "        ruta = [nodo_actual]\n",
        "        costo = 0\n",
        "\n",
        "        while len(ruta) < 100:\n",
        "\n",
        "            no_visitados = [i for i in range(n) if i not in ruta]\n",
        "            probabilidad = np.zeros(n)\n",
        "            visitado = [i for i in range (n) if i in ruta]\n",
        "\n",
        "\n",
        "            for i in no_visitados:\n",
        "                probabilidad[i] = (tau_i_j[nodo_actual][i] ** alpha) * (1.0 / matriz_costo[nodo_actual][i] ** beta)\n",
        "\n",
        "            probabilidad /= probabilidad.sum()\n",
        "            probabilidad = np.delete(probabilidad, visitado)\n",
        "            nodo_siguiente = np.random.choice(no_visitados, p=probabilidad)\n",
        "            costo += matriz_costo[nodo_actual][nodo_siguiente]\n",
        "            ruta.append(nodo_siguiente)\n",
        "            nodo_actual = nodo_siguiente\n",
        "\n",
        "        costo += matriz_costo[ruta[-1]][ruta[0]]\n",
        "        ruta_hormigas.append(ruta)\n",
        "        costo_hormigas.append(costo)\n",
        "\n",
        "\n",
        "    for i in range(n):\n",
        "        for j in range(n):\n",
        "            tau_i_j[i][j] = (1 - ro) * tau_i_j[i][j]\n",
        "\n",
        "    for hormiga in range(m):\n",
        "        for i in range(1,len(ruta_hormigas[hormiga])):\n",
        "            tau_i_j[ruta_hormigas[hormiga][i-1]][ruta_hormigas[hormiga][i]] += (Q / costo_hormigas[hormiga])\n",
        "\n",
        "print(ruta_hormigas[np.argmin(costo_hormigas)])\n",
        "print(\"Costo de la mejor ruta:\", min(costo_hormigas))"
      ],
      "metadata": {
        "colab": {
          "base_uri": "https://localhost:8080/"
        },
        "id": "dN1m1ydR70jg",
        "outputId": "33c199c6-fd44-45fc-a9f5-1bc9265ac42e"
      },
      "execution_count": null,
      "outputs": [
        {
          "output_type": "stream",
          "name": "stdout",
          "text": [
            "[0, 36, 20, 11, 48, 96, 23, 32, 15, 31, 13, 28, 46, 54, 87, 39, 92, 63, 27, 16, 78, 62, 64, 25, 52, 82, 51, 99, 17, 49, 89, 81, 91, 42, 18, 60, 30, 2, 68, 95, 26, 69, 76, 21, 38, 4, 88, 65, 84, 72, 67, 5, 80, 14, 59, 35, 47, 41, 85, 56, 37, 45, 73, 57, 24, 6, 93, 12, 55, 94, 53, 33, 61, 34, 3, 10, 74, 1, 40, 83, 8, 44, 7, 43, 58, 71, 66, 9, 77, 70, 86, 29, 98, 97, 75, 22, 90, 19, 50, 79]\n",
            "Costo de la mejor ruta: 104.08733350800001\n"
          ]
        }
      ]
    }
  ]
}